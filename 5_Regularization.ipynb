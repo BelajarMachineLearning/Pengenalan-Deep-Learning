{
  "nbformat": 4,
  "nbformat_minor": 0,
  "metadata": {
    "colab": {
      "name": "5_Regularization.ipynb",
      "provenance": [],
      "collapsed_sections": [],
      "authorship_tag": "ABX9TyNODjiDsBz1L8DgE2hkoRNI",
      "include_colab_link": true
    },
    "kernelspec": {
      "name": "python3",
      "display_name": "Python 3"
    },
    "language_info": {
      "name": "python"
    }
  },
  "cells": [
    {
      "cell_type": "markdown",
      "metadata": {
        "id": "view-in-github",
        "colab_type": "text"
      },
      "source": [
        "<a href=\"https://colab.research.google.com/github/BelajarMachineLearning/Pengenalan-Deep-Learning/blob/main/5_Regularization.ipynb\" target=\"_parent\"><img src=\"https://colab.research.google.com/assets/colab-badge.svg\" alt=\"Open In Colab\"/></a>"
      ]
    },
    {
      "cell_type": "code",
      "metadata": {
        "colab": {
          "base_uri": "https://localhost:8080/"
        },
        "id": "b6ut5L_8FGlY",
        "outputId": "404f279c-df9a-4093-8175-0c4799fd7ec1"
      },
      "source": [
        "from keras.datasets import imdb\n",
        "import numpy as np\n",
        "\n",
        "(train_data, train_labels), (test_data, test_labels) = imdb.load_data(num_words=10000)\n",
        "\n",
        "def vectorize_sequences(sequences, dimension=10000):\n",
        "    # Create an all-zero matrix of shape (len(sequences), dimension)\n",
        "    results = np.zeros((len(sequences), dimension))\n",
        "    for i, sequence in enumerate(sequences):\n",
        "        results[i, sequence] = 1.  # set specific indices of results[i] to 1s\n",
        "    return results\n",
        "\n",
        "# Our vectorized training data\n",
        "x_train = vectorize_sequences(train_data)\n",
        "# Our vectorized test data\n",
        "x_test = vectorize_sequences(test_data)\n",
        "# Our vectorized labels\n",
        "y_train = np.asarray(train_labels).astype('float32')\n",
        "y_test = np.asarray(test_labels).astype('float32')"
      ],
      "execution_count": null,
      "outputs": [
        {
          "output_type": "stream",
          "text": [
            "Downloading data from https://storage.googleapis.com/tensorflow/tf-keras-datasets/imdb.npz\n",
            "17465344/17464789 [==============================] - 0s 0us/step\n",
            "17473536/17464789 [==============================] - 0s 0us/step\n"
          ],
          "name": "stdout"
        },
        {
          "output_type": "stream",
          "text": [
            "<string>:6: VisibleDeprecationWarning: Creating an ndarray from ragged nested sequences (which is a list-or-tuple of lists-or-tuples-or ndarrays with different lengths or shapes) is deprecated. If you meant to do this, you must specify 'dtype=object' when creating the ndarray\n",
            "/usr/local/lib/python3.7/dist-packages/keras/datasets/imdb.py:155: VisibleDeprecationWarning: Creating an ndarray from ragged nested sequences (which is a list-or-tuple of lists-or-tuples-or ndarrays with different lengths or shapes) is deprecated. If you meant to do this, you must specify 'dtype=object' when creating the ndarray\n",
            "  x_train, y_train = np.array(xs[:idx]), np.array(labels[:idx])\n",
            "/usr/local/lib/python3.7/dist-packages/keras/datasets/imdb.py:156: VisibleDeprecationWarning: Creating an ndarray from ragged nested sequences (which is a list-or-tuple of lists-or-tuples-or ndarrays with different lengths or shapes) is deprecated. If you meant to do this, you must specify 'dtype=object' when creating the ndarray\n",
            "  x_test, y_test = np.array(xs[idx:]), np.array(labels[idx:])\n"
          ],
          "name": "stderr"
        }
      ]
    },
    {
      "cell_type": "code",
      "metadata": {
        "id": "ZFXmsIwQNFjh"
      },
      "source": [
        ""
      ],
      "execution_count": null,
      "outputs": []
    },
    {
      "cell_type": "markdown",
      "metadata": {
        "id": "0-mmv4cyJ5CO"
      },
      "source": [
        "Adding Weight Regularization"
      ]
    },
    {
      "cell_type": "code",
      "metadata": {
        "colab": {
          "base_uri": "https://localhost:8080/"
        },
        "id": "eLSL0C_0Kec0",
        "outputId": "ab884c00-e15c-4ea8-ef91-0f49a92a3e26"
      },
      "source": [
        "from keras import models\n",
        "from keras import layers\n",
        "import matplotlib.pyplot as plt\n",
        "\n",
        "\n",
        "original_model = models.Sequential()\n",
        "original_model.add(layers.Dense(16, activation='relu', input_shape=(10000,)))\n",
        "original_model.add(layers.Dense(16, activation='relu'))\n",
        "original_model.add(layers.Dense(1, activation='sigmoid'))\n",
        "\n",
        "original_model.compile(optimizer='rmsprop',\n",
        "                       loss='binary_crossentropy',\n",
        "                       metrics=['acc'])\n",
        "\n",
        "original_hist = original_model.fit(x_train, y_train,\n",
        "                                   epochs=20,\n",
        "                                   batch_size=512,\n",
        "                                   validation_data=(x_test, y_test))\n"
      ],
      "execution_count": null,
      "outputs": [
        {
          "output_type": "stream",
          "text": [
            "Epoch 1/20\n",
            "49/49 [==============================] - 19s 63ms/step - loss: 0.5327 - acc: 0.7558 - val_loss: 0.3262 - val_acc: 0.8790\n",
            "Epoch 2/20\n",
            "49/49 [==============================] - 2s 41ms/step - loss: 0.2669 - acc: 0.9047 - val_loss: 0.3241 - val_acc: 0.8669\n",
            "Epoch 3/20\n",
            "49/49 [==============================] - 2s 41ms/step - loss: 0.1973 - acc: 0.9293 - val_loss: 0.2842 - val_acc: 0.8871\n",
            "Epoch 4/20\n",
            "49/49 [==============================] - 2s 40ms/step - loss: 0.1608 - acc: 0.9440 - val_loss: 0.2945 - val_acc: 0.8829\n",
            "Epoch 5/20\n",
            "49/49 [==============================] - 2s 40ms/step - loss: 0.1345 - acc: 0.9555 - val_loss: 0.3337 - val_acc: 0.8744\n",
            "Epoch 6/20\n",
            "49/49 [==============================] - 2s 41ms/step - loss: 0.1146 - acc: 0.9621 - val_loss: 0.3363 - val_acc: 0.8746\n",
            "Epoch 7/20\n",
            "49/49 [==============================] - 2s 41ms/step - loss: 0.1029 - acc: 0.9663 - val_loss: 0.3631 - val_acc: 0.8705\n",
            "Epoch 8/20\n",
            "49/49 [==============================] - 2s 41ms/step - loss: 0.0875 - acc: 0.9737 - val_loss: 0.3873 - val_acc: 0.8692\n",
            "Epoch 9/20\n",
            "49/49 [==============================] - 2s 41ms/step - loss: 0.0759 - acc: 0.9757 - val_loss: 0.4209 - val_acc: 0.8656\n",
            "Epoch 10/20\n",
            "49/49 [==============================] - 2s 41ms/step - loss: 0.0649 - acc: 0.9821 - val_loss: 0.4644 - val_acc: 0.8616\n",
            "Epoch 11/20\n",
            "49/49 [==============================] - 2s 41ms/step - loss: 0.0590 - acc: 0.9823 - val_loss: 0.4839 - val_acc: 0.8610\n",
            "Epoch 12/20\n",
            "49/49 [==============================] - 2s 41ms/step - loss: 0.0455 - acc: 0.9871 - val_loss: 0.5393 - val_acc: 0.8539\n",
            "Epoch 13/20\n",
            "49/49 [==============================] - 2s 41ms/step - loss: 0.0397 - acc: 0.9892 - val_loss: 0.5505 - val_acc: 0.8573\n",
            "Epoch 14/20\n",
            "49/49 [==============================] - 2s 41ms/step - loss: 0.0313 - acc: 0.9923 - val_loss: 0.6924 - val_acc: 0.8401\n",
            "Epoch 15/20\n",
            "49/49 [==============================] - 2s 41ms/step - loss: 0.0294 - acc: 0.9925 - val_loss: 0.6150 - val_acc: 0.8552\n",
            "Epoch 16/20\n",
            "49/49 [==============================] - 2s 40ms/step - loss: 0.0222 - acc: 0.9946 - val_loss: 0.6531 - val_acc: 0.8553\n",
            "Epoch 17/20\n",
            "49/49 [==============================] - 2s 41ms/step - loss: 0.0188 - acc: 0.9959 - val_loss: 0.6964 - val_acc: 0.8531\n",
            "Epoch 18/20\n",
            "49/49 [==============================] - 2s 40ms/step - loss: 0.0163 - acc: 0.9960 - val_loss: 0.7333 - val_acc: 0.8522\n",
            "Epoch 19/20\n",
            "49/49 [==============================] - 2s 40ms/step - loss: 0.0116 - acc: 0.9978 - val_loss: 0.7709 - val_acc: 0.8509\n",
            "Epoch 20/20\n",
            "49/49 [==============================] - 2s 41ms/step - loss: 0.0123 - acc: 0.9971 - val_loss: 0.8175 - val_acc: 0.8516\n"
          ],
          "name": "stdout"
        }
      ]
    },
    {
      "cell_type": "code",
      "metadata": {
        "id": "PMJhxrzGNlsl"
      },
      "source": [
        "epochs = range(1, 21)\n",
        "original_val_loss = original_hist.history['val_loss']"
      ],
      "execution_count": null,
      "outputs": []
    },
    {
      "cell_type": "code",
      "metadata": {
        "id": "Qh8rmMjuJ8EU"
      },
      "source": [
        "from keras import regularizers\n",
        "\n",
        "l2_model = models.Sequential()\n",
        "l2_model.add(layers.Dense(16, kernel_regularizer=regularizers.l2(0.001),\n",
        "                          activation='relu', input_shape=(10000,)))\n",
        "l2_model.add(layers.Dense(16, kernel_regularizer=regularizers.l2(0.001),\n",
        "                          activation='relu'))\n",
        "l2_model.add(layers.Dense(1, activation='sigmoid'))"
      ],
      "execution_count": null,
      "outputs": []
    },
    {
      "cell_type": "code",
      "metadata": {
        "id": "4e_z1KEUKgEm"
      },
      "source": [
        "l2_model.compile(optimizer='rmsprop',\n",
        "                 loss='binary_crossentropy',\n",
        "                 metrics=['acc'])"
      ],
      "execution_count": null,
      "outputs": []
    },
    {
      "cell_type": "code",
      "metadata": {
        "colab": {
          "base_uri": "https://localhost:8080/"
        },
        "id": "PjKdhuEsK_mC",
        "outputId": "1a2b382c-4d20-48db-ed06-a5665f9f4cc7"
      },
      "source": [
        "l2_model_hist = l2_model.fit(x_train, y_train,\n",
        "                             epochs=20,\n",
        "                             batch_size=512,\n",
        "                             validation_data=(x_test, y_test))"
      ],
      "execution_count": null,
      "outputs": [
        {
          "output_type": "stream",
          "text": [
            "Epoch 1/20\n",
            "49/49 [==============================] - 4s 60ms/step - loss: 0.5976 - acc: 0.7355 - val_loss: 0.3856 - val_acc: 0.8728\n",
            "Epoch 2/20\n",
            "49/49 [==============================] - 2s 41ms/step - loss: 0.3312 - acc: 0.9007 - val_loss: 0.3618 - val_acc: 0.8720\n",
            "Epoch 3/20\n",
            "49/49 [==============================] - 2s 41ms/step - loss: 0.2686 - acc: 0.9227 - val_loss: 0.3345 - val_acc: 0.8872\n",
            "Epoch 4/20\n",
            "49/49 [==============================] - 2s 42ms/step - loss: 0.2497 - acc: 0.9282 - val_loss: 0.3786 - val_acc: 0.8665\n",
            "Epoch 5/20\n",
            "49/49 [==============================] - 2s 41ms/step - loss: 0.2314 - acc: 0.9377 - val_loss: 0.3445 - val_acc: 0.8836\n",
            "Epoch 6/20\n",
            "49/49 [==============================] - 2s 41ms/step - loss: 0.2220 - acc: 0.9430 - val_loss: 0.3650 - val_acc: 0.8768\n",
            "Epoch 7/20\n",
            "49/49 [==============================] - 2s 42ms/step - loss: 0.2150 - acc: 0.9455 - val_loss: 0.3711 - val_acc: 0.8765\n",
            "Epoch 8/20\n",
            "49/49 [==============================] - 2s 41ms/step - loss: 0.2066 - acc: 0.9494 - val_loss: 0.3920 - val_acc: 0.8714\n",
            "Epoch 9/20\n",
            "49/49 [==============================] - 2s 42ms/step - loss: 0.2080 - acc: 0.9478 - val_loss: 0.3909 - val_acc: 0.8716\n",
            "Epoch 10/20\n",
            "49/49 [==============================] - 2s 42ms/step - loss: 0.2006 - acc: 0.9502 - val_loss: 0.3818 - val_acc: 0.8756\n",
            "Epoch 11/20\n",
            "49/49 [==============================] - 2s 41ms/step - loss: 0.1986 - acc: 0.9493 - val_loss: 0.4334 - val_acc: 0.8578\n",
            "Epoch 12/20\n",
            "49/49 [==============================] - 2s 41ms/step - loss: 0.1948 - acc: 0.9526 - val_loss: 0.3975 - val_acc: 0.8731\n",
            "Epoch 13/20\n",
            "49/49 [==============================] - 2s 41ms/step - loss: 0.1916 - acc: 0.9530 - val_loss: 0.4316 - val_acc: 0.8604\n",
            "Epoch 14/20\n",
            "49/49 [==============================] - 2s 41ms/step - loss: 0.1927 - acc: 0.9508 - val_loss: 0.4239 - val_acc: 0.8696\n",
            "Epoch 15/20\n",
            "49/49 [==============================] - 2s 41ms/step - loss: 0.1841 - acc: 0.9580 - val_loss: 0.4632 - val_acc: 0.8586\n",
            "Epoch 16/20\n",
            "49/49 [==============================] - 2s 41ms/step - loss: 0.1874 - acc: 0.9529 - val_loss: 0.4600 - val_acc: 0.8622\n",
            "Epoch 17/20\n",
            "49/49 [==============================] - 2s 41ms/step - loss: 0.1820 - acc: 0.9563 - val_loss: 0.4214 - val_acc: 0.8677\n",
            "Epoch 18/20\n",
            "49/49 [==============================] - 2s 41ms/step - loss: 0.1826 - acc: 0.9566 - val_loss: 0.4360 - val_acc: 0.8674\n",
            "Epoch 19/20\n",
            "49/49 [==============================] - 2s 42ms/step - loss: 0.1768 - acc: 0.9585 - val_loss: 0.4243 - val_acc: 0.8692\n",
            "Epoch 20/20\n",
            "49/49 [==============================] - 2s 41ms/step - loss: 0.1699 - acc: 0.9610 - val_loss: 0.4428 - val_acc: 0.8672\n"
          ],
          "name": "stdout"
        }
      ]
    },
    {
      "cell_type": "code",
      "metadata": {
        "colab": {
          "base_uri": "https://localhost:8080/",
          "height": 279
        },
        "id": "DCvYAxwwLDoL",
        "outputId": "c2206743-175b-4dd9-9b1a-3f0d30356656"
      },
      "source": [
        "\n",
        "l2_model_val_loss = l2_model_hist.history['val_loss']\n",
        "\n",
        "plt.plot(epochs, original_val_loss, 'b+', label='Original model')\n",
        "plt.plot(epochs, l2_model_val_loss, 'bo', label='L2-regularized model')\n",
        "plt.xlabel('Epochs')\n",
        "plt.ylabel('Validation loss')\n",
        "plt.legend()\n",
        "\n",
        "plt.show()"
      ],
      "execution_count": null,
      "outputs": [
        {
          "output_type": "display_data",
          "data": {
            "image/png": "[encoded data removed]",
            "text/plain": [
              "<Figure size 432x288 with 1 Axes>"
            ]
          },
          "metadata": {
            "tags": [],
            "needs_background": "light"
          }
        }
      ]
    },
    {
      "cell_type": "markdown",
      "metadata": {
        "id": "xXJ2O9RbL_Nh"
      },
      "source": [
        "Drpout"
      ]
    },
    {
      "cell_type": "code",
      "metadata": {
        "id": "raOUsjEGMArq"
      },
      "source": [
        "dpt_model = models.Sequential()\n",
        "dpt_model.add(layers.Dense(16, activation='relu', input_shape=(10000,)))\n",
        "dpt_model.add(layers.Dropout(0.5))\n",
        "dpt_model.add(layers.Dense(16, activation='relu'))\n",
        "dpt_model.add(layers.Dropout(0.5))\n",
        "dpt_model.add(layers.Dense(1, activation='sigmoid'))\n",
        "\n",
        "dpt_model.compile(optimizer='rmsprop',\n",
        "                  loss='binary_crossentropy',\n",
        "                  metrics=['acc'])"
      ],
      "execution_count": null,
      "outputs": []
    },
    {
      "cell_type": "code",
      "metadata": {
        "colab": {
          "base_uri": "https://localhost:8080/"
        },
        "id": "eoneEjekMP1i",
        "outputId": "69eb4bcb-ac07-45d3-eec9-685f0f8f1182"
      },
      "source": [
        "dpt_model_hist = dpt_model.fit(x_train, y_train,\n",
        "                               epochs=20,\n",
        "                               batch_size=512,\n",
        "                               validation_data=(x_test, y_test))"
      ],
      "execution_count": null,
      "outputs": [
        {
          "output_type": "stream",
          "text": [
            "Epoch 1/20\n",
            "49/49 [==============================] - 4s 60ms/step - loss: 0.6334 - acc: 0.6212 - val_loss: 0.4327 - val_acc: 0.8700\n",
            "Epoch 2/20\n",
            "49/49 [==============================] - 2s 40ms/step - loss: 0.4491 - acc: 0.8036 - val_loss: 0.3311 - val_acc: 0.8804\n",
            "Epoch 3/20\n",
            "49/49 [==============================] - 2s 41ms/step - loss: 0.3528 - acc: 0.8631 - val_loss: 0.2899 - val_acc: 0.8893\n",
            "Epoch 4/20\n",
            "49/49 [==============================] - 2s 41ms/step - loss: 0.3003 - acc: 0.8914 - val_loss: 0.2836 - val_acc: 0.8859\n",
            "Epoch 5/20\n",
            "49/49 [==============================] - 2s 40ms/step - loss: 0.2573 - acc: 0.9097 - val_loss: 0.2771 - val_acc: 0.8918\n",
            "Epoch 6/20\n",
            "49/49 [==============================] - 2s 41ms/step - loss: 0.2259 - acc: 0.9236 - val_loss: 0.2883 - val_acc: 0.8909\n",
            "Epoch 7/20\n",
            "49/49 [==============================] - 2s 41ms/step - loss: 0.2023 - acc: 0.9318 - val_loss: 0.3045 - val_acc: 0.8884\n",
            "Epoch 8/20\n",
            "49/49 [==============================] - 2s 41ms/step - loss: 0.1852 - acc: 0.9368 - val_loss: 0.3297 - val_acc: 0.8867\n",
            "Epoch 9/20\n",
            "49/49 [==============================] - 2s 41ms/step - loss: 0.1763 - acc: 0.9427 - val_loss: 0.3608 - val_acc: 0.8760\n",
            "Epoch 10/20\n",
            "49/49 [==============================] - 2s 41ms/step - loss: 0.1618 - acc: 0.9446 - val_loss: 0.3764 - val_acc: 0.8840\n",
            "Epoch 11/20\n",
            "49/49 [==============================] - 2s 41ms/step - loss: 0.1520 - acc: 0.9496 - val_loss: 0.3947 - val_acc: 0.8799\n",
            "Epoch 12/20\n",
            "49/49 [==============================] - 2s 41ms/step - loss: 0.1412 - acc: 0.9533 - val_loss: 0.4092 - val_acc: 0.8811\n",
            "Epoch 13/20\n",
            "49/49 [==============================] - 2s 41ms/step - loss: 0.1378 - acc: 0.9552 - val_loss: 0.4235 - val_acc: 0.8791\n",
            "Epoch 14/20\n",
            "49/49 [==============================] - 2s 41ms/step - loss: 0.1270 - acc: 0.9562 - val_loss: 0.4322 - val_acc: 0.8764\n",
            "Epoch 15/20\n",
            "49/49 [==============================] - 2s 42ms/step - loss: 0.1307 - acc: 0.9554 - val_loss: 0.4652 - val_acc: 0.8776\n",
            "Epoch 16/20\n",
            "49/49 [==============================] - 2s 41ms/step - loss: 0.1227 - acc: 0.9566 - val_loss: 0.4687 - val_acc: 0.8773\n",
            "Epoch 17/20\n",
            "49/49 [==============================] - 2s 41ms/step - loss: 0.1208 - acc: 0.9551 - val_loss: 0.5179 - val_acc: 0.8771\n",
            "Epoch 18/20\n",
            "49/49 [==============================] - 2s 41ms/step - loss: 0.1178 - acc: 0.9588 - val_loss: 0.5173 - val_acc: 0.8749\n",
            "Epoch 19/20\n",
            "49/49 [==============================] - 2s 41ms/step - loss: 0.1131 - acc: 0.9607 - val_loss: 0.5372 - val_acc: 0.8730\n",
            "Epoch 20/20\n",
            "49/49 [==============================] - 2s 41ms/step - loss: 0.1098 - acc: 0.9602 - val_loss: 0.5859 - val_acc: 0.8731\n"
          ],
          "name": "stdout"
        }
      ]
    },
    {
      "cell_type": "code",
      "metadata": {
        "id": "KqLQzwLVMQ7g"
      },
      "source": [
        ""
      ],
      "execution_count": null,
      "outputs": []
    },
    {
      "cell_type": "code",
      "metadata": {
        "colab": {
          "base_uri": "https://localhost:8080/",
          "height": 279
        },
        "id": "lpfjjXPWMVsS",
        "outputId": "e7248eb9-a922-4215-b9dd-c960a225ceb2"
      },
      "source": [
        "dpt_model_val_loss = dpt_model_hist.history['val_loss']\n",
        "\n",
        "plt.plot(epochs, original_val_loss, 'b+', label='Original model')\n",
        "plt.plot(epochs, dpt_model_val_loss, 'bo', label='Dropout-regularized model')\n",
        "plt.xlabel('Epochs')\n",
        "plt.ylabel('Validation loss')\n",
        "plt.legend()\n",
        "\n",
        "plt.show()"
      ],
      "execution_count": null,
      "outputs": [
        {
          "output_type": "display_data",
          "data": {
            "image/png": "[encoded data removed]",
            "text/plain": [
              "<Figure size 432x288 with 1 Axes>"
            ]
          },
          "metadata": {
            "tags": [],
            "needs_background": "light"
          }
        }
      ]
    }
  ]
}